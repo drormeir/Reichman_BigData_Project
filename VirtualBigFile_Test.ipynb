{
 "cells": [
  {
   "cell_type": "code",
   "execution_count": 1,
   "id": "d95f5fe0",
   "metadata": {},
   "outputs": [],
   "source": [
    "from VirtualBigFile import VirtualBigFile\n",
    "import numpy as np"
   ]
  },
  {
   "cell_type": "code",
   "execution_count": 2,
   "id": "5fd7c214",
   "metadata": {},
   "outputs": [],
   "source": [
    "bigFile = VirtualBigFile(\"myfile.csv\",blocksize=64)\n",
    "bigFile.delete()"
   ]
  },
  {
   "cell_type": "code",
   "execution_count": 3,
   "id": "18b27867",
   "metadata": {},
   "outputs": [
    {
     "name": "stdout",
     "output_type": "stream",
     "text": [
      "Printing partition[0]\n",
      "[('Steven', 'Brown', 'Munchen', '36', '4'), ('Steven', 'Watson', 'PaloAlto', '51', '1'), ('Michael', 'Bain', 'London', '54', '1'), ('Steven', 'Miller', 'Hamburg', '55', '4'), ('Marc', 'Miller', 'NewYork', '30', '2'), ('Dana', 'Bain', 'London', '27', '3'), ('Scott', 'Brown', 'Hamburg', '18', '2'), ('Steven', 'Bain', 'London', '34', '0'), ('Steven', 'Brown', 'NewYork', '60', '1'), ('John', 'Smith', 'TelAviv', '56', '1'), ('Steven', 'Brown', 'PaloAlto', '33', '4'), ('Scott', 'Watson', 'Hamburg', '46', '2'), ('Marc', 'Watson', 'NewYork', '61', '4'), ('Marc', 'Smith', 'Haifa', '61', '1'), ('John', 'Bain', 'London', '28', '0'), ('Scott', 'Brown', 'Munchen', '55', '0'), ('Marc', 'Brown', 'TelAviv', '35', '0'), ('Steven', 'Bain', 'NewYork', '41', '4'), ('Scott', 'Smith', 'Haifa', '36', '3'), ('Steven', 'Brown', 'London', '52', '1')]\n",
      "Flushing...\n",
      "Printing partition[0]\n",
      "[('Steven', 'Brown', 'Munchen', '36', '4'), ('Steven', 'Watson', 'PaloAlto', '51', '1')]\n",
      "Printing partition[1]\n",
      "[('Michael', 'Bain', 'London', '54', '1'), ('Steven', 'Miller', 'Hamburg', '55', '4'), ('Marc', 'Miller', 'NewYork', '30', '2'), ('Dana', 'Bain', 'London', '27', '3'), ('Scott', 'B')]\n",
      "Printing partition[2]\n",
      "[('rown', 'Hamburg', '18', '2'), ('Steven', 'Bain', 'London', '34', '0'), ('Steven', 'Brown', 'NewYork', '60', '1'), ('John', 'Smith', 'TelAviv', '56', '1'), ('Steven', 'Brown', 'PaloAlto', '33', '4'), ('Scott', 'Watson', 'Hamburg', '46', '2'), ('Marc', 'Watson', 'NewYork', '61', '4'), ('Marc', 'Smith', 'Haifa', '61', '1'), ('John', 'Bain', '')]\n",
      "Printing partition[3]\n",
      "[('London', '28', '0'), ('Scott', 'Brown', 'Munchen', '55', '0'), ('Marc', 'Brown', 'TelAviv', '35', '0'), ('Steven', 'Bain', 'NewYork', '41', '4'), ('Scott', 'Smith', 'Haifa', '36', '3'), ('Steven', 'Brown', 'London', '52', '1')]\n"
     ]
    }
   ],
   "source": [
    "firstname = ['John', 'Dana', 'Scott', 'Marc', 'Steven', 'Michael', 'Albert', 'Johanna']\n",
    "secondname = ['Smith', 'Brown', 'Miller', 'Watson', 'Bain']\n",
    "city = ['NewYork', 'Haifa', 'Munchen', 'London', 'PaloAlto',  'TelAviv', 'Kiel', 'Hamburg']\n",
    "\n",
    "pop = 20\n",
    "first = np.random.choice(a=firstname, size=pop)\n",
    "second = np.random.choice(a=secondname, size=pop)\n",
    "cit = np.random.choice(a=city, size=pop)\n",
    "age = np.random.choice(a=50,size=pop) + 18\n",
    "child = np.random.choice(a=5,size=pop)\n",
    "for p in range(pop):\n",
    "    row = first[p] + \",\" + second[p] + \",\" +  cit[p] + \",\" +str(age[p]) + \",\" + str(child[p])\n",
    "    bigFile.append(row)\n",
    "\n",
    "for i in range(bigFile.num_partitions()):\n",
    "    print(\"Printing partition[{}]\".format(i))\n",
    "    print(bigFile.readPartition(i,[tuple]))\n",
    "\n",
    "print(\"Flushing...\")\n",
    "bigFile.flush()\n",
    "\n",
    "for i in range(bigFile.num_partitions()):\n",
    "    print(\"Printing partition[{}]\".format(i))\n",
    "    print(bigFile.readPartition(i,[tuple]))\n"
   ]
  },
  {
   "cell_type": "code",
   "execution_count": 4,
   "id": "3585a459",
   "metadata": {},
   "outputs": [
    {
     "name": "stdout",
     "output_type": "stream",
     "text": [
      "Deleting...\n"
     ]
    }
   ],
   "source": [
    "\n",
    "print(\"Deleting...\")\n",
    "bigFile.delete()\n",
    "\n",
    "for i in range(bigFile.num_partitions()):\n",
    "    print(\"Printing partition[{}]\".format(i))\n",
    "    print(bigFile.readPartition(i))\n"
   ]
  },
  {
   "cell_type": "code",
   "execution_count": null,
   "id": "2d557671",
   "metadata": {},
   "outputs": [],
   "source": []
  }
 ],
 "metadata": {
  "kernelspec": {
   "display_name": "Python 3 (ipykernel)",
   "language": "python",
   "name": "python3"
  },
  "language_info": {
   "codemirror_mode": {
    "name": "ipython",
    "version": 3
   },
   "file_extension": ".py",
   "mimetype": "text/x-python",
   "name": "python",
   "nbconvert_exporter": "python",
   "pygments_lexer": "ipython3",
   "version": "3.8.5"
  }
 },
 "nbformat": 4,
 "nbformat_minor": 5
}
